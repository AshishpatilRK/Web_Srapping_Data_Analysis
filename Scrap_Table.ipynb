{
 "cells": [
  {
   "cell_type": "code",
   "execution_count": 1,
   "id": "d46a686e",
   "metadata": {},
   "outputs": [],
   "source": [
    "# importing libraries\n",
    "import requests                # get html data \n",
    "from bs4 import BeautifulSoup    # for scrapping data from web\n",
    "from csv import writer            # write data to csv"
   ]
  },
  {
   "cell_type": "code",
   "execution_count": 2,
   "id": "56195849",
   "metadata": {},
   "outputs": [],
   "source": [
    "url=\"https://www.worldometers.info/world-population/population-by-country/\"  # conect to url\n",
    "response= requests.get(url).text    # request to get response"
   ]
  },
  {
   "cell_type": "code",
   "execution_count": 3,
   "id": "7c2238c5",
   "metadata": {},
   "outputs": [],
   "source": [
    "soup = BeautifulSoup(response, \"html.parser\") #  to get info in the form of html"
   ]
  },
  {
   "cell_type": "code",
   "execution_count": 8,
   "id": "cf7069f9",
   "metadata": {},
   "outputs": [],
   "source": [
    "tabl = soup.find(\"table\", id=\"example2\")  # get table content"
   ]
  },
  {
   "cell_type": "code",
   "execution_count": 9,
   "id": "aff7e761",
   "metadata": {},
   "outputs": [],
   "source": [
    "header = []  # Created Empty List\n",
    "\n",
    "for i in tabl.find_all('th'):   # Extract header row\n",
    "    header.append(i.text)\n",
    "\n",
    "with open(\"world_population_by_country.csv\", \"wt\",newline='',encoding='utf-8') as csv_file:  # file creation\n",
    "    csv_writer = writer(csv_file, delimiter ='|')\n",
    "    csv_writer.writerow(header) # write header\n",
    "   \n",
    "    for row in tabl.find_all('tr')[1:]:        # Write data to csv file\n",
    "        td = row.find_all('td')\n",
    "        r = [i.text.replace('\\n','') for i in td]\n",
    "        csv_writer.writerow(r)"
   ]
  },
  {
   "cell_type": "code",
   "execution_count": null,
   "id": "18443f7b",
   "metadata": {},
   "outputs": [],
   "source": []
  }
 ],
 "metadata": {
  "kernelspec": {
   "display_name": "Python 3 (ipykernel)",
   "language": "python",
   "name": "python3"
  },
  "language_info": {
   "codemirror_mode": {
    "name": "ipython",
    "version": 3
   },
   "file_extension": ".py",
   "mimetype": "text/x-python",
   "name": "python",
   "nbconvert_exporter": "python",
   "pygments_lexer": "ipython3",
   "version": "3.9.7"
  }
 },
 "nbformat": 4,
 "nbformat_minor": 5
}
